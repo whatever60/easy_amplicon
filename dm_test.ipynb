{
 "cells": [
  {
   "cell_type": "code",
   "execution_count": null,
   "metadata": {},
   "outputs": [],
   "source": [
    "import numpy as np\n",
    "import pandas as pd\n",
    "from sklearn.decomposition import PCA\n",
    "from skbio.diversity import beta_diversity\n",
    "from skbio.stats.ordination import pcoa\n",
    "\n",
    "import matplotlib.pyplot as plt\n",
    "from matplotlib.patches import Ellipse\n",
    "import seaborn as sns"
   ]
  },
  {
   "cell_type": "code",
   "execution_count": null,
   "metadata": {},
   "outputs": [],
   "source": [
    "data_dir = \"../outputs_rrndb/everything\""
   ]
  },
  {
   "cell_type": "code",
   "execution_count": null,
   "metadata": {},
   "outputs": [],
   "source": [
    "def _load(ab_path: str, metadata_path: str) -> tuple[pd.DataFrame, pd.DataFrame]:\n",
    "    meta = pd.read_csv(metadata_path, index_col=0)\n",
    "    df = pd.read_csv(ab_path, index_col=0)\n",
    "    drop_samples = df.index.str.contains(\"-V-\") | df.index.str.contains(\"-SNS-\")\n",
    "    # drop_samples = df.index.str.contains(\"-5N-\")\n",
    "    df = df.loc[~drop_samples]\n",
    "    meta = meta.loc[~drop_samples]\n",
    "    nonzero = df.sum(axis=1).astype(bool)\n",
    "    df = df.loc[nonzero]\n",
    "    meta = meta.loc[nonzero]\n",
    "\n",
    "    source = []\n",
    "    for i in meta.index:\n",
    "        if \"-S-\" in i:\n",
    "            if \"-OGAmp2-\" in i:\n",
    "                source.append(\"Swab-new\")\n",
    "            elif \"-OG-\" in i:\n",
    "                source.append(\"Swab-old\")\n",
    "            elif \"-OGcomb-\" in i:\n",
    "                source.append(\"Swab-comb\")\n",
    "            else:\n",
    "                raise ValueError(i)\n",
    "        if \"-V-\" in i:\n",
    "            source.append(\"Vortex\")\n",
    "        if \"-SNS-\" in i:\n",
    "            source.append(\"Swab no spike-in\")\n",
    "        if \"-R-\" in i:\n",
    "            source.append(\"R2A\")\n",
    "        if \"-T-\" in i:\n",
    "            source.append(\"TSA\")\n",
    "    meta[\"source\"] = source\n",
    "    \n",
    "    print(np.unique([i.split(\"-\")[2] for i in meta.index]))\n",
    "    rep1, rep2 = np.unique([i.split(\"-\")[2] for i in meta.index]).reshape(-1, 2).T\n",
    "    print(rep1, rep2)\n",
    "    rep_number = []\n",
    "    for i in meta.index:\n",
    "        if any(f\"-{r}-\" in i for r in rep1):\n",
    "            rep_number.append(\"rep 1\")\n",
    "        elif any(f\"-{r}-\" in i for r in rep2):\n",
    "            rep_number.append(\"rep 2\")\n",
    "        else:\n",
    "            raise ValueError(i)\n",
    "    meta[\"rep\"] = rep_number\n",
    "    return df, meta"
   ]
  },
  {
   "cell_type": "markdown",
   "metadata": {},
   "source": [
    "## sample x OTU count PCA"
   ]
  },
  {
   "cell_type": "code",
   "execution_count": null,
   "metadata": {},
   "outputs": [],
   "source": [
    "count_sample_otu, meta = _load(\n",
    "    f\"{data_dir}/count_sample_otu.csv\", f\"{data_dir}/metadata_sample.csv\"\n",
    ")"
   ]
  },
  {
   "cell_type": "code",
   "execution_count": null,
   "metadata": {},
   "outputs": [],
   "source": [
    "pc = pcoa(beta_diversity(\"braycurtis\", count_sample_otu), number_of_dimensions=10).samples.copy()\n",
    "pc.index = count_sample_otu.index\n",
    "pc[[\"sample_group\", \"source\"]] = meta[[\"sample_group\", \"source\"]]"
   ]
  },
  {
   "cell_type": "code",
   "execution_count": null,
   "metadata": {},
   "outputs": [],
   "source": [
    "fig, ax = plt.subplots(figsize=(5, 5))\n",
    "sns.scatterplot(data=pc, x=\"PC1\", y=\"PC2\", hue=\"sample_group\", style=\"source\", ax=ax)\n",
    "ax.legend(bbox_to_anchor=(1.05, 1), loc=2, borderaxespad=0.)\n",
    "\n",
    "fig, ax = plt.subplots(figsize=(5, 5))\n",
    "sns.scatterplot(data=pc, x=\"PC2\", y=\"PC3\", hue=\"sample_group\", style=\"source\", ax=ax)\n",
    "ax.legend(bbox_to_anchor=(1.05, 1), loc=2, borderaxespad=0.)"
   ]
  },
  {
   "cell_type": "markdown",
   "metadata": {},
   "source": [
    "## Sample x OTU log10 relative abundance PCA"
   ]
  },
  {
   "cell_type": "code",
   "execution_count": null,
   "metadata": {},
   "outputs": [],
   "source": [
    "rel_ab_sample_otu, meta = _load(\n",
    "    f\"{data_dir}/rel_ab_sample_otu.csv\", f\"{data_dir}/metadata_sample.csv\"\n",
    ")\n",
    "rel_ab_sample_otu = np.log10(rel_ab_sample_otu + 1e-8)"
   ]
  },
  {
   "cell_type": "code",
   "execution_count": null,
   "metadata": {},
   "outputs": [],
   "source": [
    "pc_obj = PCA(n_components=10).fit(rel_ab_sample_otu)\n",
    "pc = pc_obj.transform(rel_ab_sample_otu)\n",
    "variance = pc_obj.explained_variance_ratio_\n",
    "pc = pd.DataFrame(\n",
    "    pc,\n",
    "    index=rel_ab_sample_otu.index,\n",
    "    columns=[f\"PC{i}\" for i in range(1, pc.shape[1] + 1)],\n",
    ")\n",
    "pc[[\"sample_group\", \"source\"]] = meta[[\"sample_group\", \"source\"]]"
   ]
  },
  {
   "cell_type": "code",
   "execution_count": null,
   "metadata": {},
   "outputs": [],
   "source": [
    "pc_dims = 2, 3\n",
    "fig, ax = plt.subplots(figsize=(5, 5))\n",
    "sns.scatterplot(\n",
    "    data=pc,\n",
    "    x=f\"PC{pc_dims[0]}\",\n",
    "    y=f\"PC{pc_dims[1]}\",\n",
    "    hue=\"sample_group\",\n",
    "    style=\"source\",\n",
    "    ax=ax,\n",
    ")\n",
    "ax.legend(bbox_to_anchor=(1.05, 1), loc=2, borderaxespad=0.0)\n",
    "ax.set_xlabel(f\"PC{pc_dims[0]} ({variance[pc_dims[0] - 1]:.2f})\")\n",
    "ax.set_ylabel(f\"PC{pc_dims[1]} ({variance[pc_dims[1] - 1]:.2f})\")"
   ]
  },
  {
   "cell_type": "markdown",
   "metadata": {},
   "source": [
    "## Sample x Genus log10 relative abundance PCA"
   ]
  },
  {
   "cell_type": "code",
   "execution_count": null,
   "metadata": {},
   "outputs": [],
   "source": [
    "rel_ab_sample_genus, meta = _load(\n",
    "    f\"{data_dir}/rel_ab_sample_genus.csv\", f\"{data_dir}/metadata_sample.csv\"\n",
    ")\n",
    "rel_ab_sample_genus = np.log10(rel_ab_sample_genus + 1e-8)\n",
    "\n",
    "pc_obj = PCA(n_components=10).fit(rel_ab_sample_genus)\n",
    "pc = pc_obj.transform(rel_ab_sample_genus)\n",
    "variance = pc_obj.explained_variance_ratio_\n",
    "pc = pd.DataFrame(\n",
    "    pc,\n",
    "    index=rel_ab_sample_genus.index,\n",
    "    columns=[f\"PC{i}\" for i in range(1, pc.shape[1] + 1)],\n",
    ")\n",
    "pc[[\"Sample group\", \"Source\", \"Replication number\"]] = meta[\n",
    "    [\"sample_group\", \"source\", \"rep\"]\n",
    "]\n",
    "\n",
    "pc_dims = 2, 3\n",
    "fig, ax = plt.subplots(figsize=(5, 5))\n",
    "# get n colors where n is the number of unique values in the `sample_group` column\n",
    "n = len(pc[\"Sample group\"].unique())\n",
    "row_colors = sns.color_palette(\"tab10\", n)\n",
    "sns.scatterplot(\n",
    "    data=pc,\n",
    "    x=f\"PC{pc_dims[0]}\",\n",
    "    y=f\"PC{pc_dims[1]}\",\n",
    "    hue=\"Sample group\",\n",
    "    palette=row_colors,\n",
    "    style=\"Source\",\n",
    "    ax=ax,\n",
    ")\n",
    "ax.legend(bbox_to_anchor=(1.05, 1), loc=2, borderaxespad=0.0)\n",
    "\n",
    "\n",
    "# add ellipses\n",
    "def eigsorted(cov):\n",
    "    vals, vecs = np.linalg.eigh(cov)\n",
    "    order = vals.argsort()[::-1]\n",
    "    return vals[order], vecs[:, order]\n",
    "\n",
    "for group in pc[\"Sample group\"].unique():\n",
    "    x = pc.loc[pc[\"Sample group\"] == group, f\"PC{pc_dims[0]}\"]\n",
    "    y = pc.loc[pc[\"Sample group\"] == group, f\"PC{pc_dims[1]}\"]\n",
    "    mean_x, mean_y = x.mean(), y.mean()\n",
    "    cov = np.cov(x, y)\n",
    "    lambda_, v = eigsorted(cov)\n",
    "    theta = np.degrees(np.arctan2(*v[:, 0][::-1]))\n",
    "    w, h = 2 * 2 * np.sqrt(lambda_)\n",
    "    ell = Ellipse(\n",
    "        xy=(mean_x, mean_y),\n",
    "        width=w,\n",
    "        height=h,\n",
    "        angle=theta,\n",
    "        # color=row_colors[pc[\"sample_group\"].unique().tolist().index(group)],\n",
    "        alpha=0.2,\n",
    "    )\n",
    "    ell.set_facecolor(row_colors[pc[\"Sample group\"].unique().tolist().index(group)])\n",
    "    ell.set_edgecolor(\"grey\")\n",
    "    ax.add_artist(ell)\n",
    "\n",
    "ax.set_xlabel(f\"PC{pc_dims[0]} ({variance[pc_dims[0] - 1] * 100:.2f}%)\")\n",
    "ax.set_ylabel(f\"PC{pc_dims[1]} ({variance[pc_dims[1] - 1] * 100:.2f}%)\")\n",
    "ax.set_title(\"PCA of genus-level log10 relative abundances\")"
   ]
  }
 ],
 "metadata": {
  "kernelspec": {
   "display_name": "base",
   "language": "python",
   "name": "python3"
  },
  "language_info": {
   "codemirror_mode": {
    "name": "ipython",
    "version": 3
   },
   "file_extension": ".py",
   "mimetype": "text/x-python",
   "name": "python",
   "nbconvert_exporter": "python",
   "pygments_lexer": "ipython3",
   "version": "3.10.10"
  }
 },
 "nbformat": 4,
 "nbformat_minor": 2
}
